{
 "cells": [
  {
   "cell_type": "markdown",
   "metadata": {},
   "source": [
    "## Heart failure predict"
   ]
  },
  {
   "cell_type": "code",
   "execution_count": 1,
   "metadata": {},
   "outputs": [],
   "source": [
    "import pandas as pd\n",
    "import numpy as np\n",
    "import sklearn as sk"
   ]
  },
  {
   "cell_type": "code",
   "execution_count": 9,
   "metadata": {},
   "outputs": [],
   "source": [
    "df = pd.read_csv('data/heart_failure_clinical_records_dataset.csv', sep=',')"
   ]
  },
  {
   "cell_type": "code",
   "execution_count": 11,
   "metadata": {},
   "outputs": [
    {
     "data": {
      "text/html": [
       "<div>\n",
       "<style scoped>\n",
       "    .dataframe tbody tr th:only-of-type {\n",
       "        vertical-align: middle;\n",
       "    }\n",
       "\n",
       "    .dataframe tbody tr th {\n",
       "        vertical-align: top;\n",
       "    }\n",
       "\n",
       "    .dataframe thead th {\n",
       "        text-align: right;\n",
       "    }\n",
       "</style>\n",
       "<table border=\"1\" class=\"dataframe\">\n",
       "  <thead>\n",
       "    <tr style=\"text-align: right;\">\n",
       "      <th></th>\n",
       "      <th>age</th>\n",
       "      <th>anaemia</th>\n",
       "      <th>creatinine_phosphokinase</th>\n",
       "      <th>diabetes</th>\n",
       "      <th>ejection_fraction</th>\n",
       "      <th>high_blood_pressure</th>\n",
       "      <th>platelets</th>\n",
       "      <th>serum_creatinine</th>\n",
       "      <th>serum_sodium</th>\n",
       "      <th>sex</th>\n",
       "      <th>smoking</th>\n",
       "      <th>time</th>\n",
       "      <th>DEATH_EVENT</th>\n",
       "    </tr>\n",
       "  </thead>\n",
       "  <tbody>\n",
       "    <tr>\n",
       "      <th>0</th>\n",
       "      <td>75.0</td>\n",
       "      <td>0</td>\n",
       "      <td>582</td>\n",
       "      <td>0</td>\n",
       "      <td>20</td>\n",
       "      <td>1</td>\n",
       "      <td>265000.00</td>\n",
       "      <td>1.9</td>\n",
       "      <td>130</td>\n",
       "      <td>1</td>\n",
       "      <td>0</td>\n",
       "      <td>4</td>\n",
       "      <td>1</td>\n",
       "    </tr>\n",
       "    <tr>\n",
       "      <th>1</th>\n",
       "      <td>55.0</td>\n",
       "      <td>0</td>\n",
       "      <td>7861</td>\n",
       "      <td>0</td>\n",
       "      <td>38</td>\n",
       "      <td>0</td>\n",
       "      <td>263358.03</td>\n",
       "      <td>1.1</td>\n",
       "      <td>136</td>\n",
       "      <td>1</td>\n",
       "      <td>0</td>\n",
       "      <td>6</td>\n",
       "      <td>1</td>\n",
       "    </tr>\n",
       "    <tr>\n",
       "      <th>2</th>\n",
       "      <td>65.0</td>\n",
       "      <td>0</td>\n",
       "      <td>146</td>\n",
       "      <td>0</td>\n",
       "      <td>20</td>\n",
       "      <td>0</td>\n",
       "      <td>162000.00</td>\n",
       "      <td>1.3</td>\n",
       "      <td>129</td>\n",
       "      <td>1</td>\n",
       "      <td>1</td>\n",
       "      <td>7</td>\n",
       "      <td>1</td>\n",
       "    </tr>\n",
       "    <tr>\n",
       "      <th>3</th>\n",
       "      <td>50.0</td>\n",
       "      <td>1</td>\n",
       "      <td>111</td>\n",
       "      <td>0</td>\n",
       "      <td>20</td>\n",
       "      <td>0</td>\n",
       "      <td>210000.00</td>\n",
       "      <td>1.9</td>\n",
       "      <td>137</td>\n",
       "      <td>1</td>\n",
       "      <td>0</td>\n",
       "      <td>7</td>\n",
       "      <td>1</td>\n",
       "    </tr>\n",
       "    <tr>\n",
       "      <th>4</th>\n",
       "      <td>65.0</td>\n",
       "      <td>1</td>\n",
       "      <td>160</td>\n",
       "      <td>1</td>\n",
       "      <td>20</td>\n",
       "      <td>0</td>\n",
       "      <td>327000.00</td>\n",
       "      <td>2.7</td>\n",
       "      <td>116</td>\n",
       "      <td>0</td>\n",
       "      <td>0</td>\n",
       "      <td>8</td>\n",
       "      <td>1</td>\n",
       "    </tr>\n",
       "  </tbody>\n",
       "</table>\n",
       "</div>"
      ],
      "text/plain": [
       "    age  anaemia  creatinine_phosphokinase  diabetes  ejection_fraction  \\\n",
       "0  75.0        0                       582         0                 20   \n",
       "1  55.0        0                      7861         0                 38   \n",
       "2  65.0        0                       146         0                 20   \n",
       "3  50.0        1                       111         0                 20   \n",
       "4  65.0        1                       160         1                 20   \n",
       "\n",
       "   high_blood_pressure  platelets  serum_creatinine  serum_sodium  sex  \\\n",
       "0                    1  265000.00               1.9           130    1   \n",
       "1                    0  263358.03               1.1           136    1   \n",
       "2                    0  162000.00               1.3           129    1   \n",
       "3                    0  210000.00               1.9           137    1   \n",
       "4                    0  327000.00               2.7           116    0   \n",
       "\n",
       "   smoking  time  DEATH_EVENT  \n",
       "0        0     4            1  \n",
       "1        0     6            1  \n",
       "2        1     7            1  \n",
       "3        0     7            1  \n",
       "4        0     8            1  "
      ]
     },
     "execution_count": 11,
     "metadata": {},
     "output_type": "execute_result"
    }
   ],
   "source": [
    "df.head(5)"
   ]
  },
  {
   "cell_type": "code",
   "execution_count": 12,
   "metadata": {},
   "outputs": [
    {
     "data": {
      "text/plain": [
       "(299, 13)"
      ]
     },
     "execution_count": 12,
     "metadata": {},
     "output_type": "execute_result"
    }
   ],
   "source": [
    "df.shape"
   ]
  },
  {
   "cell_type": "code",
   "execution_count": 13,
   "metadata": {},
   "outputs": [
    {
     "data": {
      "text/plain": [
       "Index(['age', 'anaemia', 'creatinine_phosphokinase', 'diabetes',\n",
       "       'ejection_fraction', 'high_blood_pressure', 'platelets',\n",
       "       'serum_creatinine', 'serum_sodium', 'sex', 'smoking', 'time',\n",
       "       'DEATH_EVENT'],\n",
       "      dtype='object')"
      ]
     },
     "execution_count": 13,
     "metadata": {},
     "output_type": "execute_result"
    }
   ],
   "source": [
    "df.columns"
   ]
  },
  {
   "cell_type": "markdown",
   "metadata": {},
   "source": [
    "#### Variáveis\n",
    "| Var                      |Desc                                              |\n",
    "| ---                      |----                                              |  \n",
    "| 'age'                    |idade da pessoa                                   |      \n",
    "| 'anaemia'                |indica anemia na pessoa(0-não ; 1-sim)                                               \n",
    "|'creatinine_phosphokinase'|creatina quinase                                  |\n",
    "|'diabetes'                |indica se a pessoa tem diabetes(0-não ; 1-sim)    |\n",
    "|'ejection_fraction'       |fração de ejeção do coração(em %)\n",
    "|'high_blood_pressure'     |indica se a pessoa tem pressão alta(0-não ; 1-sim)|\n",
    "|'platelets'               |\n",
    "|'serum_creatinine'        |\n",
    "|'serum_sodium'            |\n",
    "|'sex'                     |sexo da pessoa(0 e 1)                             |\n",
    "|'smoking'                 |indicador se a pessoa fuma(0-não ; 1-sim)         |\n",
    "|'time'                    | \n",
    "|'DEATH_EVENT|             |indica se a pessoa morreu(0-não ; 1-sim)          |"
   ]
  },
  {
   "cell_type": "markdown",
   "metadata": {},
   "source": [
    "# Entendendo algumas variáveis\n",
    "## Creatina Quinase(creatinine_phosphokinase)'\n",
    " A creatina quinase (CK) é uma enzima encontrada no coração, no cérebro, nos músculos esqueléticos e em outros tecidos. Enzimas são proteínas que aceleram as funções normais das células. Nas células musculares esqueléticas e cardíacas, a maior parte da energia é usada para a contração muscular.\n",
    "### O que significa o resultado do exame\n",
    " Uma CK aumentada, ou que se eleva a partir do primeiro exame, em geral indica que houve lesão do coração ou de outros músculos. Pode também indicar uso intenso de músculos. Se o médico suspeita de infarto do miocárdio e a CK estiver alta, em geral irá pedir um exame mais específico de lesão cardíaca, como a troponina.\n",
    "\n",
    "Referência: [Link](https://labtestsonline.org.br/tests/creatina-quinase)\n",
    "\n",
    "## Fração de Ejeção(ejection_fraction)\n",
    " Fração de Ejeção (EF) é a medida, expressa em porcentagem, da quandiade sangue que o ventriculo esquerdo bombeia para fora do coração em cada contração. Uma fração de ejeção de 60% significa que 60% da quantidade total de sangue no ventriculo esquerdo é bombeado para fora do coração em cada batida.\n",
    " Isso indica se o coração esta funcionando corretamente, e pode ajudar no diagnóstico e rastreio de falhas no coração \n",
    "### O que é normal\n",
    " - Fração de ejeção normal fica entre 50% e 70%\n",
    " - Você pode ter uma fração de ejeção normal e  ainda ter falhas no coração(chamado de HFpEF ou falha no coração com ventrilo esquedo preservado).\n",
    " - Se o musculo do coração ficar tão espesso e duro que o ventriculo esquerdo \"guarde\" uma quantidade de sangue menor do que o usual, ainda assim pode parecer que a ejeção de fração esteja normal. Mas na realidade, a quantidade de sangue que bombeada não é suficiente para as necessidades do corpo.\n",
    "\n",
    "Referencia[Link](https://www.heart.org/en/health-topics/heart-failure/diagnosing-heart-failure/ejection-fraction-heart-failure-measurement)\n",
    "\n",
    "## Plaquetas(platelets)\n",
    " Estruturas que estão presentes no sangue,  essas estruturas atuam impedindo a ocorrência de hemorragias e ajudando no processo de coagulação.\n",
    "### Quantidade de plaquetas no organismo\n",
    " Normalmente, o organismo humano possui de 150 mil a 450 mil plaquetas por microlitro de sangue. Desse total , 70% estão localizadas na circulação e 30% estão presentes no baço.\n",
    " \n",
    "Referencia:[Link](https://mundoeducacao.uol.com.br/biologia/plaquetas.htm#:~:text=As%20plaquetas%2C%20tamb%C3%A9m%20chamadas%20de%20tromb%C3%B3citos%2C%20s%C3%A3o%20estruturas%20presentes%20no,partir%20de%20c%C3%A9lulas%20denominadas%20megacari%C3%B3citos.)"
   ]
  },
  {
   "cell_type": "code",
   "execution_count": null,
   "metadata": {},
   "outputs": [],
   "source": []
  }
 ],
 "metadata": {
  "kernelspec": {
   "display_name": "Python 3",
   "language": "python",
   "name": "python3"
  },
  "language_info": {
   "codemirror_mode": {
    "name": "ipython",
    "version": 3
   },
   "file_extension": ".py",
   "mimetype": "text/x-python",
   "name": "python",
   "nbconvert_exporter": "python",
   "pygments_lexer": "ipython3",
   "version": "3.8.3"
  }
 },
 "nbformat": 4,
 "nbformat_minor": 4
}
